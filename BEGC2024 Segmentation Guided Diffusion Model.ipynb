{
 "cells": [
  {
   "cell_type": "markdown",
   "id": "5ae4425e-7491-4b29-9714-d481995453e4",
   "metadata": {},
   "source": [
    "# **IEEE Bigdata Cup 2024: Building extraction**\n",
    "\n",
    "**Author:** [Yi-Jie Wong](https://www.linkedin.com/in/wongyijie/) et al<br>\n",
    "**Challenge link:** [Kaggle](https://www.kaggle.com/competitions/building-extraction-generalization-2024/leaderboard)<br>\n",
    "**Date created:** 2024/07/10<br>\n",
    "**Last modified:** 2024/09/12<br>\n",
    "**Description:** Cross-City Generalizability of Instance Segmentation Model in a Nationwide Building Extraction Task"
   ]
  },
  {
   "cell_type": "markdown",
   "id": "a556da03-23e7-404d-b2a0-7bcfb0240bb8",
   "metadata": {},
   "source": [
    "## Step 1: Setup the Repo"
   ]
  },
  {
   "cell_type": "code",
   "execution_count": 1,
   "id": "8b2420bc-5ab6-4726-89ce-c9785b078a61",
   "metadata": {
    "collapsed": true,
    "jupyter": {
     "outputs_hidden": true
    }
   },
   "outputs": [
    {
     "name": "stdout",
     "output_type": "stream",
     "text": [
      "Cloning into 'RSGuidedDiffusion'...\n",
      "\n"
     ]
    }
   ],
   "source": [
    "# clone this repo\n",
    "!git clone https://github.com/yjwong1999/RSGuidedDiffusion.git"
   ]
  },
  {
   "cell_type": "code",
   "execution_count": 2,
   "id": "582d9c8d-ba86-4e0d-966e-626ee413c209",
   "metadata": {
    "collapsed": true,
    "jupyter": {
     "outputs_hidden": true
    }
   },
   "outputs": [
    {
     "name": "stdout",
     "output_type": "stream",
     "text": [
      "Requirement already satisfied: opendatasets==0.1.22 in /system/conda/miniconda3/envs/cloudspace/lib/python3.10/site-packages (0.1.22)\n",
      "Requirement already satisfied: tqdm in /system/conda/miniconda3/envs/cloudspace/lib/python3.10/site-packages (from opendatasets==0.1.22) (4.66.5)\n",
      "Requirement already satisfied: kaggle in /system/conda/miniconda3/envs/cloudspace/lib/python3.10/site-packages (from opendatasets==0.1.22) (1.6.17)\n",
      "Requirement already satisfied: click in /system/conda/miniconda3/envs/cloudspace/lib/python3.10/site-packages (from opendatasets==0.1.22) (8.1.7)\n",
      "Requirement already satisfied: six>=1.10 in /system/conda/miniconda3/envs/cloudspace/lib/python3.10/site-packages (from kaggle->opendatasets==0.1.22) (1.16.0)\n",
      "Requirement already satisfied: certifi>=2023.7.22 in /system/conda/miniconda3/envs/cloudspace/lib/python3.10/site-packages (from kaggle->opendatasets==0.1.22) (2024.8.30)\n",
      "Requirement already satisfied: python-dateutil in /system/conda/miniconda3/envs/cloudspace/lib/python3.10/site-packages (from kaggle->opendatasets==0.1.22) (2.9.0.post0)\n",
      "Requirement already satisfied: requests in /system/conda/miniconda3/envs/cloudspace/lib/python3.10/site-packages (from kaggle->opendatasets==0.1.22) (2.32.3)\n",
      "Requirement already satisfied: python-slugify in /system/conda/miniconda3/envs/cloudspace/lib/python3.10/site-packages (from kaggle->opendatasets==0.1.22) (8.0.4)\n",
      "Requirement already satisfied: urllib3 in /system/conda/miniconda3/envs/cloudspace/lib/python3.10/site-packages (from kaggle->opendatasets==0.1.22) (2.2.2)\n",
      "Requirement already satisfied: bleach in /system/conda/miniconda3/envs/cloudspace/lib/python3.10/site-packages (from kaggle->opendatasets==0.1.22) (6.1.0)\n",
      "Requirement already satisfied: webencodings in /system/conda/miniconda3/envs/cloudspace/lib/python3.10/site-packages (from bleach->kaggle->opendatasets==0.1.22) (0.5.1)\n",
      "Requirement already satisfied: text-unidecode>=1.3 in /system/conda/miniconda3/envs/cloudspace/lib/python3.10/site-packages (from python-slugify->kaggle->opendatasets==0.1.22) (1.3)\n",
      "Requirement already satisfied: charset-normalizer<4,>=2 in /system/conda/miniconda3/envs/cloudspace/lib/python3.10/site-packages (from requests->kaggle->opendatasets==0.1.22) (3.3.2)\n",
      "Requirement already satisfied: idna<4,>=2.5 in /system/conda/miniconda3/envs/cloudspace/lib/python3.10/site-packages (from requests->kaggle->opendatasets==0.1.22) (3.8)\n",
      "Requirement already satisfied: ever-beta==0.2.3 in /system/conda/miniconda3/envs/cloudspace/lib/python3.10/site-packages (0.2.3)\n",
      "Requirement already satisfied: numpy in /system/conda/miniconda3/envs/cloudspace/lib/python3.10/site-packages (from ever-beta==0.2.3) (1.26.4)\n",
      "Requirement already satisfied: prettytable in /system/conda/miniconda3/envs/cloudspace/lib/python3.10/site-packages (from ever-beta==0.2.3) (3.11.0)\n",
      "Requirement already satisfied: Pillow in /system/conda/miniconda3/envs/cloudspace/lib/python3.10/site-packages (from ever-beta==0.2.3) (10.4.0)\n",
      "Requirement already satisfied: albumentations>=0.4.2 in /system/conda/miniconda3/envs/cloudspace/lib/python3.10/site-packages (from ever-beta==0.2.3) (1.4.14)\n",
      "Requirement already satisfied: tensorboard>=1.14 in /system/conda/miniconda3/envs/cloudspace/lib/python3.10/site-packages (from ever-beta==0.2.3) (2.14.0)\n",
      "Requirement already satisfied: tifffile in /system/conda/miniconda3/envs/cloudspace/lib/python3.10/site-packages (from ever-beta==0.2.3) (2024.8.30)\n",
      "Requirement already satisfied: scikit-image in /system/conda/miniconda3/envs/cloudspace/lib/python3.10/site-packages (from ever-beta==0.2.3) (0.24.0)\n",
      "Requirement already satisfied: scipy in /system/conda/miniconda3/envs/cloudspace/lib/python3.10/site-packages (from ever-beta==0.2.3) (1.11.4)\n",
      "Requirement already satisfied: matplotlib in /system/conda/miniconda3/envs/cloudspace/lib/python3.10/site-packages (from ever-beta==0.2.3) (3.8.2)\n",
      "Requirement already satisfied: tqdm in /system/conda/miniconda3/envs/cloudspace/lib/python3.10/site-packages (from ever-beta==0.2.3) (4.66.5)\n",
      "Requirement already satisfied: pandas in /system/conda/miniconda3/envs/cloudspace/lib/python3.10/site-packages (from ever-beta==0.2.3) (2.1.4)\n",
      "Requirement already satisfied: PyYAML in /system/conda/miniconda3/envs/cloudspace/lib/python3.10/site-packages (from albumentations>=0.4.2->ever-beta==0.2.3) (6.0.2)\n",
      "Requirement already satisfied: typing-extensions>=4.9.0 in /system/conda/miniconda3/envs/cloudspace/lib/python3.10/site-packages (from albumentations>=0.4.2->ever-beta==0.2.3) (4.12.2)\n",
      "Requirement already satisfied: pydantic>=2.7.0 in /system/conda/miniconda3/envs/cloudspace/lib/python3.10/site-packages (from albumentations>=0.4.2->ever-beta==0.2.3) (2.9.0)\n",
      "Requirement already satisfied: albucore>=0.0.13 in /system/conda/miniconda3/envs/cloudspace/lib/python3.10/site-packages (from albumentations>=0.4.2->ever-beta==0.2.3) (0.0.14)\n",
      "Requirement already satisfied: eval-type-backport in /system/conda/miniconda3/envs/cloudspace/lib/python3.10/site-packages (from albumentations>=0.4.2->ever-beta==0.2.3) (0.2.0)\n",
      "Requirement already satisfied: opencv-python-headless>=4.9.0.80 in /system/conda/miniconda3/envs/cloudspace/lib/python3.10/site-packages (from albumentations>=0.4.2->ever-beta==0.2.3) (4.10.0.84)\n",
      "Requirement already satisfied: networkx>=2.8 in /system/conda/miniconda3/envs/cloudspace/lib/python3.10/site-packages (from scikit-image->ever-beta==0.2.3) (3.3)\n",
      "Requirement already satisfied: imageio>=2.33 in /system/conda/miniconda3/envs/cloudspace/lib/python3.10/site-packages (from scikit-image->ever-beta==0.2.3) (2.35.1)\n",
      "Requirement already satisfied: packaging>=21 in /system/conda/miniconda3/envs/cloudspace/lib/python3.10/site-packages (from scikit-image->ever-beta==0.2.3) (24.1)\n",
      "Requirement already satisfied: lazy-loader>=0.4 in /system/conda/miniconda3/envs/cloudspace/lib/python3.10/site-packages (from scikit-image->ever-beta==0.2.3) (0.4)\n",
      "Requirement already satisfied: absl-py>=0.4 in /system/conda/miniconda3/envs/cloudspace/lib/python3.10/site-packages (from tensorboard>=1.14->ever-beta==0.2.3) (2.1.0)\n",
      "Requirement already satisfied: grpcio>=1.48.2 in /system/conda/miniconda3/envs/cloudspace/lib/python3.10/site-packages (from tensorboard>=1.14->ever-beta==0.2.3) (1.66.1)\n",
      "Requirement already satisfied: google-auth<3,>=1.6.3 in /system/conda/miniconda3/envs/cloudspace/lib/python3.10/site-packages (from tensorboard>=1.14->ever-beta==0.2.3) (2.34.0)\n",
      "Requirement already satisfied: google-auth-oauthlib<1.1,>=0.5 in /system/conda/miniconda3/envs/cloudspace/lib/python3.10/site-packages (from tensorboard>=1.14->ever-beta==0.2.3) (1.0.0)\n",
      "Requirement already satisfied: markdown>=2.6.8 in /system/conda/miniconda3/envs/cloudspace/lib/python3.10/site-packages (from tensorboard>=1.14->ever-beta==0.2.3) (3.7)\n",
      "Requirement already satisfied: protobuf>=3.19.6 in /system/conda/miniconda3/envs/cloudspace/lib/python3.10/site-packages (from tensorboard>=1.14->ever-beta==0.2.3) (4.23.4)\n",
      "Requirement already satisfied: requests<3,>=2.21.0 in /system/conda/miniconda3/envs/cloudspace/lib/python3.10/site-packages (from tensorboard>=1.14->ever-beta==0.2.3) (2.32.3)\n",
      "Requirement already satisfied: setuptools>=41.0.0 in /system/conda/miniconda3/envs/cloudspace/lib/python3.10/site-packages (from tensorboard>=1.14->ever-beta==0.2.3) (72.1.0)\n",
      "Requirement already satisfied: tensorboard-data-server<0.8.0,>=0.7.0 in /system/conda/miniconda3/envs/cloudspace/lib/python3.10/site-packages (from tensorboard>=1.14->ever-beta==0.2.3) (0.7.2)\n",
      "Requirement already satisfied: werkzeug>=1.0.1 in /system/conda/miniconda3/envs/cloudspace/lib/python3.10/site-packages (from tensorboard>=1.14->ever-beta==0.2.3) (3.0.4)\n",
      "Requirement already satisfied: wheel>=0.26 in /system/conda/miniconda3/envs/cloudspace/lib/python3.10/site-packages (from tensorboard>=1.14->ever-beta==0.2.3) (0.43.0)\n",
      "Requirement already satisfied: contourpy>=1.0.1 in /system/conda/miniconda3/envs/cloudspace/lib/python3.10/site-packages (from matplotlib->ever-beta==0.2.3) (1.3.0)\n",
      "Requirement already satisfied: cycler>=0.10 in /system/conda/miniconda3/envs/cloudspace/lib/python3.10/site-packages (from matplotlib->ever-beta==0.2.3) (0.12.1)\n",
      "Requirement already satisfied: fonttools>=4.22.0 in /system/conda/miniconda3/envs/cloudspace/lib/python3.10/site-packages (from matplotlib->ever-beta==0.2.3) (4.53.1)\n",
      "Requirement already satisfied: kiwisolver>=1.3.1 in /system/conda/miniconda3/envs/cloudspace/lib/python3.10/site-packages (from matplotlib->ever-beta==0.2.3) (1.4.7)\n",
      "Requirement already satisfied: pyparsing>=2.3.1 in /system/conda/miniconda3/envs/cloudspace/lib/python3.10/site-packages (from matplotlib->ever-beta==0.2.3) (3.1.4)\n",
      "Requirement already satisfied: python-dateutil>=2.7 in /system/conda/miniconda3/envs/cloudspace/lib/python3.10/site-packages (from matplotlib->ever-beta==0.2.3) (2.9.0.post0)\n",
      "Requirement already satisfied: pytz>=2020.1 in /system/conda/miniconda3/envs/cloudspace/lib/python3.10/site-packages (from pandas->ever-beta==0.2.3) (2024.1)\n",
      "Requirement already satisfied: tzdata>=2022.1 in /system/conda/miniconda3/envs/cloudspace/lib/python3.10/site-packages (from pandas->ever-beta==0.2.3) (2024.1)\n",
      "Requirement already satisfied: wcwidth in /system/conda/miniconda3/envs/cloudspace/lib/python3.10/site-packages (from prettytable->ever-beta==0.2.3) (0.2.13)\n",
      "Requirement already satisfied: cachetools<6.0,>=2.0.0 in /system/conda/miniconda3/envs/cloudspace/lib/python3.10/site-packages (from google-auth<3,>=1.6.3->tensorboard>=1.14->ever-beta==0.2.3) (5.5.0)\n",
      "Requirement already satisfied: pyasn1-modules>=0.2.1 in /system/conda/miniconda3/envs/cloudspace/lib/python3.10/site-packages (from google-auth<3,>=1.6.3->tensorboard>=1.14->ever-beta==0.2.3) (0.4.0)\n",
      "Requirement already satisfied: rsa<5,>=3.1.4 in /system/conda/miniconda3/envs/cloudspace/lib/python3.10/site-packages (from google-auth<3,>=1.6.3->tensorboard>=1.14->ever-beta==0.2.3) (4.9)\n",
      "Requirement already satisfied: requests-oauthlib>=0.7.0 in /system/conda/miniconda3/envs/cloudspace/lib/python3.10/site-packages (from google-auth-oauthlib<1.1,>=0.5->tensorboard>=1.14->ever-beta==0.2.3) (2.0.0)\n",
      "Requirement already satisfied: annotated-types>=0.4.0 in /system/conda/miniconda3/envs/cloudspace/lib/python3.10/site-packages (from pydantic>=2.7.0->albumentations>=0.4.2->ever-beta==0.2.3) (0.7.0)\n",
      "Requirement already satisfied: pydantic-core==2.23.2 in /system/conda/miniconda3/envs/cloudspace/lib/python3.10/site-packages (from pydantic>=2.7.0->albumentations>=0.4.2->ever-beta==0.2.3) (2.23.2)\n",
      "Requirement already satisfied: six>=1.5 in /system/conda/miniconda3/envs/cloudspace/lib/python3.10/site-packages (from python-dateutil>=2.7->matplotlib->ever-beta==0.2.3) (1.16.0)\n",
      "Requirement already satisfied: charset-normalizer<4,>=2 in /system/conda/miniconda3/envs/cloudspace/lib/python3.10/site-packages (from requests<3,>=2.21.0->tensorboard>=1.14->ever-beta==0.2.3) (3.3.2)\n",
      "Requirement already satisfied: idna<4,>=2.5 in /system/conda/miniconda3/envs/cloudspace/lib/python3.10/site-packages (from requests<3,>=2.21.0->tensorboard>=1.14->ever-beta==0.2.3) (3.8)\n",
      "Requirement already satisfied: urllib3<3,>=1.21.1 in /system/conda/miniconda3/envs/cloudspace/lib/python3.10/site-packages (from requests<3,>=2.21.0->tensorboard>=1.14->ever-beta==0.2.3) (2.2.2)\n",
      "Requirement already satisfied: certifi>=2017.4.17 in /system/conda/miniconda3/envs/cloudspace/lib/python3.10/site-packages (from requests<3,>=2.21.0->tensorboard>=1.14->ever-beta==0.2.3) (2024.8.30)\n",
      "Requirement already satisfied: MarkupSafe>=2.1.1 in /system/conda/miniconda3/envs/cloudspace/lib/python3.10/site-packages (from werkzeug>=1.0.1->tensorboard>=1.14->ever-beta==0.2.3) (2.1.5)\n",
      "Requirement already satisfied: pyasn1<0.7.0,>=0.4.6 in /system/conda/miniconda3/envs/cloudspace/lib/python3.10/site-packages (from pyasn1-modules>=0.2.1->google-auth<3,>=1.6.3->tensorboard>=1.14->ever-beta==0.2.3) (0.6.0)\n",
      "Requirement already satisfied: oauthlib>=3.0.0 in /system/conda/miniconda3/envs/cloudspace/lib/python3.10/site-packages (from requests-oauthlib>=0.7.0->google-auth-oauthlib<1.1,>=0.5->tensorboard>=1.14->ever-beta==0.2.3) (3.2.2)\n",
      "Collecting git+https://github.com/qubvel/segmentation_models.pytorch\n",
      "  Cloning https://github.com/qubvel/segmentation_models.pytorch to /tmp/pip-req-build-wez7cmle\n",
      "  Running command git clone --filter=blob:none --quiet https://github.com/qubvel/segmentation_models.pytorch /tmp/pip-req-build-wez7cmle\n",
      "\n",
      "  Resolved https://github.com/qubvel/segmentation_models.pytorch to commit 966bb6deb096bd9963de0baffcbb7ad330cd30ba\n",
      "  Installing build dependencies ... \u001b[?25ldone\n",
      "\u001b[?25h  Getting requirements to build wheel ... \u001b[?25ldone\n",
      "\u001b[?25h  Preparing metadata (pyproject.toml) ... \u001b[?25ldone\n",
      "\u001b[?25hRequirement already satisfied: efficientnet-pytorch==0.7.1 in /system/conda/miniconda3/envs/cloudspace/lib/python3.10/site-packages (from segmentation_models_pytorch==0.3.5.dev0) (0.7.1)\n",
      "Requirement already satisfied: huggingface-hub>=0.24.6 in /system/conda/miniconda3/envs/cloudspace/lib/python3.10/site-packages (from segmentation_models_pytorch==0.3.5.dev0) (0.24.6)\n",
      "Requirement already satisfied: numpy in /system/conda/miniconda3/envs/cloudspace/lib/python3.10/site-packages (from segmentation_models_pytorch==0.3.5.dev0) (1.26.4)\n",
      "Requirement already satisfied: pillow in /system/conda/miniconda3/envs/cloudspace/lib/python3.10/site-packages (from segmentation_models_pytorch==0.3.5.dev0) (10.4.0)\n",
      "Requirement already satisfied: pretrainedmodels==0.7.4 in /system/conda/miniconda3/envs/cloudspace/lib/python3.10/site-packages (from segmentation_models_pytorch==0.3.5.dev0) (0.7.4)\n",
      "Requirement already satisfied: six in /system/conda/miniconda3/envs/cloudspace/lib/python3.10/site-packages (from segmentation_models_pytorch==0.3.5.dev0) (1.16.0)\n",
      "Requirement already satisfied: timm==0.9.7 in /system/conda/miniconda3/envs/cloudspace/lib/python3.10/site-packages (from segmentation_models_pytorch==0.3.5.dev0) (0.9.7)\n",
      "Requirement already satisfied: torch in /system/conda/miniconda3/envs/cloudspace/lib/python3.10/site-packages (from segmentation_models_pytorch==0.3.5.dev0) (2.2.1+cu121)\n",
      "Requirement already satisfied: torchvision>=0.5 in /system/conda/miniconda3/envs/cloudspace/lib/python3.10/site-packages (from segmentation_models_pytorch==0.3.5.dev0) (0.17.1+cu121)\n",
      "Requirement already satisfied: tqdm in /system/conda/miniconda3/envs/cloudspace/lib/python3.10/site-packages (from segmentation_models_pytorch==0.3.5.dev0) (4.66.5)\n",
      "Requirement already satisfied: munch in /system/conda/miniconda3/envs/cloudspace/lib/python3.10/site-packages (from pretrainedmodels==0.7.4->segmentation_models_pytorch==0.3.5.dev0) (4.0.0)\n",
      "Requirement already satisfied: pyyaml in /system/conda/miniconda3/envs/cloudspace/lib/python3.10/site-packages (from timm==0.9.7->segmentation_models_pytorch==0.3.5.dev0) (6.0.2)\n",
      "Requirement already satisfied: safetensors in /system/conda/miniconda3/envs/cloudspace/lib/python3.10/site-packages (from timm==0.9.7->segmentation_models_pytorch==0.3.5.dev0) (0.4.4)\n",
      "Requirement already satisfied: filelock in /system/conda/miniconda3/envs/cloudspace/lib/python3.10/site-packages (from huggingface-hub>=0.24.6->segmentation_models_pytorch==0.3.5.dev0) (3.15.4)\n",
      "Requirement already satisfied: fsspec>=2023.5.0 in /system/conda/miniconda3/envs/cloudspace/lib/python3.10/site-packages (from huggingface-hub>=0.24.6->segmentation_models_pytorch==0.3.5.dev0) (2023.6.0)\n",
      "Requirement already satisfied: packaging>=20.9 in /system/conda/miniconda3/envs/cloudspace/lib/python3.10/site-packages (from huggingface-hub>=0.24.6->segmentation_models_pytorch==0.3.5.dev0) (24.1)\n",
      "Requirement already satisfied: requests in /system/conda/miniconda3/envs/cloudspace/lib/python3.10/site-packages (from huggingface-hub>=0.24.6->segmentation_models_pytorch==0.3.5.dev0) (2.32.3)\n",
      "Requirement already satisfied: typing-extensions>=3.7.4.3 in /system/conda/miniconda3/envs/cloudspace/lib/python3.10/site-packages (from huggingface-hub>=0.24.6->segmentation_models_pytorch==0.3.5.dev0) (4.12.2)\n",
      "Requirement already satisfied: sympy in /system/conda/miniconda3/envs/cloudspace/lib/python3.10/site-packages (from torch->segmentation_models_pytorch==0.3.5.dev0) (1.13.2)\n",
      "Requirement already satisfied: networkx in /system/conda/miniconda3/envs/cloudspace/lib/python3.10/site-packages (from torch->segmentation_models_pytorch==0.3.5.dev0) (3.3)\n",
      "Requirement already satisfied: jinja2 in /system/conda/miniconda3/envs/cloudspace/lib/python3.10/site-packages (from torch->segmentation_models_pytorch==0.3.5.dev0) (3.1.4)\n",
      "Requirement already satisfied: nvidia-cuda-nvrtc-cu12==12.1.105 in /system/conda/miniconda3/envs/cloudspace/lib/python3.10/site-packages (from torch->segmentation_models_pytorch==0.3.5.dev0) (12.1.105)\n",
      "Requirement already satisfied: nvidia-cuda-runtime-cu12==12.1.105 in /system/conda/miniconda3/envs/cloudspace/lib/python3.10/site-packages (from torch->segmentation_models_pytorch==0.3.5.dev0) (12.1.105)\n",
      "Requirement already satisfied: nvidia-cuda-cupti-cu12==12.1.105 in /system/conda/miniconda3/envs/cloudspace/lib/python3.10/site-packages (from torch->segmentation_models_pytorch==0.3.5.dev0) (12.1.105)\n",
      "Requirement already satisfied: nvidia-cudnn-cu12==8.9.2.26 in /system/conda/miniconda3/envs/cloudspace/lib/python3.10/site-packages (from torch->segmentation_models_pytorch==0.3.5.dev0) (8.9.2.26)\n",
      "Requirement already satisfied: nvidia-cublas-cu12==12.1.3.1 in /system/conda/miniconda3/envs/cloudspace/lib/python3.10/site-packages (from torch->segmentation_models_pytorch==0.3.5.dev0) (12.1.3.1)\n",
      "Requirement already satisfied: nvidia-cufft-cu12==11.0.2.54 in /system/conda/miniconda3/envs/cloudspace/lib/python3.10/site-packages (from torch->segmentation_models_pytorch==0.3.5.dev0) (11.0.2.54)\n",
      "Requirement already satisfied: nvidia-curand-cu12==10.3.2.106 in /system/conda/miniconda3/envs/cloudspace/lib/python3.10/site-packages (from torch->segmentation_models_pytorch==0.3.5.dev0) (10.3.2.106)\n",
      "Requirement already satisfied: nvidia-cusolver-cu12==11.4.5.107 in /system/conda/miniconda3/envs/cloudspace/lib/python3.10/site-packages (from torch->segmentation_models_pytorch==0.3.5.dev0) (11.4.5.107)\n",
      "Requirement already satisfied: nvidia-cusparse-cu12==12.1.0.106 in /system/conda/miniconda3/envs/cloudspace/lib/python3.10/site-packages (from torch->segmentation_models_pytorch==0.3.5.dev0) (12.1.0.106)\n",
      "Requirement already satisfied: nvidia-nccl-cu12==2.19.3 in /system/conda/miniconda3/envs/cloudspace/lib/python3.10/site-packages (from torch->segmentation_models_pytorch==0.3.5.dev0) (2.19.3)\n",
      "Requirement already satisfied: nvidia-nvtx-cu12==12.1.105 in /system/conda/miniconda3/envs/cloudspace/lib/python3.10/site-packages (from torch->segmentation_models_pytorch==0.3.5.dev0) (12.1.105)\n",
      "Requirement already satisfied: triton==2.2.0 in /system/conda/miniconda3/envs/cloudspace/lib/python3.10/site-packages (from torch->segmentation_models_pytorch==0.3.5.dev0) (2.2.0)\n",
      "Requirement already satisfied: nvidia-nvjitlink-cu12 in /system/conda/miniconda3/envs/cloudspace/lib/python3.10/site-packages (from nvidia-cusolver-cu12==11.4.5.107->torch->segmentation_models_pytorch==0.3.5.dev0) (12.6.68)\n",
      "Requirement already satisfied: MarkupSafe>=2.0 in /system/conda/miniconda3/envs/cloudspace/lib/python3.10/site-packages (from jinja2->torch->segmentation_models_pytorch==0.3.5.dev0) (2.1.5)\n",
      "Requirement already satisfied: charset-normalizer<4,>=2 in /system/conda/miniconda3/envs/cloudspace/lib/python3.10/site-packages (from requests->huggingface-hub>=0.24.6->segmentation_models_pytorch==0.3.5.dev0) (3.3.2)\n",
      "Requirement already satisfied: idna<4,>=2.5 in /system/conda/miniconda3/envs/cloudspace/lib/python3.10/site-packages (from requests->huggingface-hub>=0.24.6->segmentation_models_pytorch==0.3.5.dev0) (3.8)\n",
      "Requirement already satisfied: urllib3<3,>=1.21.1 in /system/conda/miniconda3/envs/cloudspace/lib/python3.10/site-packages (from requests->huggingface-hub>=0.24.6->segmentation_models_pytorch==0.3.5.dev0) (2.2.2)\n",
      "Requirement already satisfied: certifi>=2017.4.17 in /system/conda/miniconda3/envs/cloudspace/lib/python3.10/site-packages (from requests->huggingface-hub>=0.24.6->segmentation_models_pytorch==0.3.5.dev0) (2024.8.30)\n",
      "Requirement already satisfied: mpmath<1.4,>=1.1.0 in /system/conda/miniconda3/envs/cloudspace/lib/python3.10/site-packages (from sympy->torch->segmentation_models_pytorch==0.3.5.dev0) (1.3.0)\n",
      "Requirement already satisfied: pycocotools in /system/conda/miniconda3/envs/cloudspace/lib/python3.10/site-packages (2.0.8)\n",
      "Requirement already satisfied: requests in /system/conda/miniconda3/envs/cloudspace/lib/python3.10/site-packages (2.32.3)\n",
      "Requirement already satisfied: click in /system/conda/miniconda3/envs/cloudspace/lib/python3.10/site-packages (8.1.7)\n",
      "Requirement already satisfied: matplotlib>=2.1.0 in /system/conda/miniconda3/envs/cloudspace/lib/python3.10/site-packages (from pycocotools) (3.8.2)\n",
      "Requirement already satisfied: numpy in /system/conda/miniconda3/envs/cloudspace/lib/python3.10/site-packages (from pycocotools) (1.26.4)\n",
      "Requirement already satisfied: charset-normalizer<4,>=2 in /system/conda/miniconda3/envs/cloudspace/lib/python3.10/site-packages (from requests) (3.3.2)\n",
      "Requirement already satisfied: idna<4,>=2.5 in /system/conda/miniconda3/envs/cloudspace/lib/python3.10/site-packages (from requests) (3.8)\n",
      "Requirement already satisfied: urllib3<3,>=1.21.1 in /system/conda/miniconda3/envs/cloudspace/lib/python3.10/site-packages (from requests) (2.2.2)\n",
      "Requirement already satisfied: certifi>=2017.4.17 in /system/conda/miniconda3/envs/cloudspace/lib/python3.10/site-packages (from requests) (2024.8.30)\n",
      "Requirement already satisfied: contourpy>=1.0.1 in /system/conda/miniconda3/envs/cloudspace/lib/python3.10/site-packages (from matplotlib>=2.1.0->pycocotools) (1.3.0)\n",
      "Requirement already satisfied: cycler>=0.10 in /system/conda/miniconda3/envs/cloudspace/lib/python3.10/site-packages (from matplotlib>=2.1.0->pycocotools) (0.12.1)\n",
      "Requirement already satisfied: fonttools>=4.22.0 in /system/conda/miniconda3/envs/cloudspace/lib/python3.10/site-packages (from matplotlib>=2.1.0->pycocotools) (4.53.1)\n",
      "Requirement already satisfied: kiwisolver>=1.3.1 in /system/conda/miniconda3/envs/cloudspace/lib/python3.10/site-packages (from matplotlib>=2.1.0->pycocotools) (1.4.7)\n",
      "Requirement already satisfied: packaging>=20.0 in /system/conda/miniconda3/envs/cloudspace/lib/python3.10/site-packages (from matplotlib>=2.1.0->pycocotools) (24.1)\n",
      "Requirement already satisfied: pillow>=8 in /system/conda/miniconda3/envs/cloudspace/lib/python3.10/site-packages (from matplotlib>=2.1.0->pycocotools) (10.4.0)\n",
      "Requirement already satisfied: pyparsing>=2.3.1 in /system/conda/miniconda3/envs/cloudspace/lib/python3.10/site-packages (from matplotlib>=2.1.0->pycocotools) (3.1.4)\n",
      "Requirement already satisfied: python-dateutil>=2.7 in /system/conda/miniconda3/envs/cloudspace/lib/python3.10/site-packages (from matplotlib>=2.1.0->pycocotools) (2.9.0.post0)\n",
      "Requirement already satisfied: six>=1.5 in /system/conda/miniconda3/envs/cloudspace/lib/python3.10/site-packages (from python-dateutil>=2.7->matplotlib>=2.1.0->pycocotools) (1.16.0)\n",
      "Requirement already satisfied: diffusers==0.21.4 in /system/conda/miniconda3/envs/cloudspace/lib/python3.10/site-packages (0.21.4)\n",
      "Requirement already satisfied: Pillow in /system/conda/miniconda3/envs/cloudspace/lib/python3.10/site-packages (from diffusers==0.21.4) (10.4.0)\n",
      "Requirement already satisfied: filelock in /system/conda/miniconda3/envs/cloudspace/lib/python3.10/site-packages (from diffusers==0.21.4) (3.15.4)\n",
      "Requirement already satisfied: huggingface-hub>=0.13.2 in /system/conda/miniconda3/envs/cloudspace/lib/python3.10/site-packages (from diffusers==0.21.4) (0.24.6)\n",
      "Requirement already satisfied: importlib-metadata in /system/conda/miniconda3/envs/cloudspace/lib/python3.10/site-packages (from diffusers==0.21.4) (8.4.0)\n",
      "Requirement already satisfied: numpy in /system/conda/miniconda3/envs/cloudspace/lib/python3.10/site-packages (from diffusers==0.21.4) (1.26.4)\n",
      "Requirement already satisfied: regex!=2019.12.17 in /system/conda/miniconda3/envs/cloudspace/lib/python3.10/site-packages (from diffusers==0.21.4) (2024.7.24)\n",
      "Requirement already satisfied: requests in /system/conda/miniconda3/envs/cloudspace/lib/python3.10/site-packages (from diffusers==0.21.4) (2.32.3)\n",
      "Requirement already satisfied: safetensors>=0.3.1 in /system/conda/miniconda3/envs/cloudspace/lib/python3.10/site-packages (from diffusers==0.21.4) (0.4.4)\n",
      "Requirement already satisfied: fsspec>=2023.5.0 in /system/conda/miniconda3/envs/cloudspace/lib/python3.10/site-packages (from huggingface-hub>=0.13.2->diffusers==0.21.4) (2023.6.0)\n",
      "Requirement already satisfied: packaging>=20.9 in /system/conda/miniconda3/envs/cloudspace/lib/python3.10/site-packages (from huggingface-hub>=0.13.2->diffusers==0.21.4) (24.1)\n",
      "Requirement already satisfied: pyyaml>=5.1 in /system/conda/miniconda3/envs/cloudspace/lib/python3.10/site-packages (from huggingface-hub>=0.13.2->diffusers==0.21.4) (6.0.2)\n",
      "Requirement already satisfied: tqdm>=4.42.1 in /system/conda/miniconda3/envs/cloudspace/lib/python3.10/site-packages (from huggingface-hub>=0.13.2->diffusers==0.21.4) (4.66.5)\n",
      "Requirement already satisfied: typing-extensions>=3.7.4.3 in /system/conda/miniconda3/envs/cloudspace/lib/python3.10/site-packages (from huggingface-hub>=0.13.2->diffusers==0.21.4) (4.12.2)\n",
      "Requirement already satisfied: zipp>=0.5 in /system/conda/miniconda3/envs/cloudspace/lib/python3.10/site-packages (from importlib-metadata->diffusers==0.21.4) (3.20.1)\n",
      "Requirement already satisfied: charset-normalizer<4,>=2 in /system/conda/miniconda3/envs/cloudspace/lib/python3.10/site-packages (from requests->diffusers==0.21.4) (3.3.2)\n",
      "Requirement already satisfied: idna<4,>=2.5 in /system/conda/miniconda3/envs/cloudspace/lib/python3.10/site-packages (from requests->diffusers==0.21.4) (3.8)\n",
      "Requirement already satisfied: urllib3<3,>=1.21.1 in /system/conda/miniconda3/envs/cloudspace/lib/python3.10/site-packages (from requests->diffusers==0.21.4) (2.2.2)\n",
      "Requirement already satisfied: certifi>=2017.4.17 in /system/conda/miniconda3/envs/cloudspace/lib/python3.10/site-packages (from requests->diffusers==0.21.4) (2024.8.30)\n",
      "Requirement already satisfied: datasets==2.14.5 in /system/conda/miniconda3/envs/cloudspace/lib/python3.10/site-packages (2.14.5)\n",
      "Requirement already satisfied: numpy>=1.17 in /system/conda/miniconda3/envs/cloudspace/lib/python3.10/site-packages (from datasets==2.14.5) (1.26.4)\n",
      "Requirement already satisfied: pyarrow>=8.0.0 in /system/conda/miniconda3/envs/cloudspace/lib/python3.10/site-packages (from datasets==2.14.5) (17.0.0)\n",
      "Requirement already satisfied: dill<0.3.8,>=0.3.0 in /system/conda/miniconda3/envs/cloudspace/lib/python3.10/site-packages (from datasets==2.14.5) (0.3.7)\n",
      "Requirement already satisfied: pandas in /system/conda/miniconda3/envs/cloudspace/lib/python3.10/site-packages (from datasets==2.14.5) (2.1.4)\n",
      "Requirement already satisfied: requests>=2.19.0 in /system/conda/miniconda3/envs/cloudspace/lib/python3.10/site-packages (from datasets==2.14.5) (2.32.3)\n",
      "Requirement already satisfied: tqdm>=4.62.1 in /system/conda/miniconda3/envs/cloudspace/lib/python3.10/site-packages (from datasets==2.14.5) (4.66.5)\n",
      "Requirement already satisfied: xxhash in /system/conda/miniconda3/envs/cloudspace/lib/python3.10/site-packages (from datasets==2.14.5) (3.5.0)\n",
      "Requirement already satisfied: multiprocess in /system/conda/miniconda3/envs/cloudspace/lib/python3.10/site-packages (from datasets==2.14.5) (0.70.15)\n",
      "Requirement already satisfied: fsspec<2023.9.0,>=2023.1.0 in /system/conda/miniconda3/envs/cloudspace/lib/python3.10/site-packages (from fsspec[http]<2023.9.0,>=2023.1.0->datasets==2.14.5) (2023.6.0)\n",
      "Requirement already satisfied: aiohttp in /system/conda/miniconda3/envs/cloudspace/lib/python3.10/site-packages (from datasets==2.14.5) (3.10.5)\n",
      "Requirement already satisfied: huggingface-hub<1.0.0,>=0.14.0 in /system/conda/miniconda3/envs/cloudspace/lib/python3.10/site-packages (from datasets==2.14.5) (0.24.6)\n",
      "Requirement already satisfied: packaging in /system/conda/miniconda3/envs/cloudspace/lib/python3.10/site-packages (from datasets==2.14.5) (24.1)\n",
      "Requirement already satisfied: pyyaml>=5.1 in /system/conda/miniconda3/envs/cloudspace/lib/python3.10/site-packages (from datasets==2.14.5) (6.0.2)\n",
      "Requirement already satisfied: aiohappyeyeballs>=2.3.0 in /system/conda/miniconda3/envs/cloudspace/lib/python3.10/site-packages (from aiohttp->datasets==2.14.5) (2.4.0)\n",
      "Requirement already satisfied: aiosignal>=1.1.2 in /system/conda/miniconda3/envs/cloudspace/lib/python3.10/site-packages (from aiohttp->datasets==2.14.5) (1.3.1)\n",
      "Requirement already satisfied: attrs>=17.3.0 in /system/conda/miniconda3/envs/cloudspace/lib/python3.10/site-packages (from aiohttp->datasets==2.14.5) (24.2.0)\n",
      "Requirement already satisfied: frozenlist>=1.1.1 in /system/conda/miniconda3/envs/cloudspace/lib/python3.10/site-packages (from aiohttp->datasets==2.14.5) (1.4.1)\n",
      "Requirement already satisfied: multidict<7.0,>=4.5 in /system/conda/miniconda3/envs/cloudspace/lib/python3.10/site-packages (from aiohttp->datasets==2.14.5) (6.0.5)\n",
      "Requirement already satisfied: yarl<2.0,>=1.0 in /system/conda/miniconda3/envs/cloudspace/lib/python3.10/site-packages (from aiohttp->datasets==2.14.5) (1.9.11)\n",
      "Requirement already satisfied: async-timeout<5.0,>=4.0 in /system/conda/miniconda3/envs/cloudspace/lib/python3.10/site-packages (from aiohttp->datasets==2.14.5) (4.0.3)\n",
      "Requirement already satisfied: filelock in /system/conda/miniconda3/envs/cloudspace/lib/python3.10/site-packages (from huggingface-hub<1.0.0,>=0.14.0->datasets==2.14.5) (3.15.4)\n",
      "Requirement already satisfied: typing-extensions>=3.7.4.3 in /system/conda/miniconda3/envs/cloudspace/lib/python3.10/site-packages (from huggingface-hub<1.0.0,>=0.14.0->datasets==2.14.5) (4.12.2)\n",
      "Requirement already satisfied: charset-normalizer<4,>=2 in /system/conda/miniconda3/envs/cloudspace/lib/python3.10/site-packages (from requests>=2.19.0->datasets==2.14.5) (3.3.2)\n",
      "Requirement already satisfied: idna<4,>=2.5 in /system/conda/miniconda3/envs/cloudspace/lib/python3.10/site-packages (from requests>=2.19.0->datasets==2.14.5) (3.8)\n",
      "Requirement already satisfied: urllib3<3,>=1.21.1 in /system/conda/miniconda3/envs/cloudspace/lib/python3.10/site-packages (from requests>=2.19.0->datasets==2.14.5) (2.2.2)\n",
      "Requirement already satisfied: certifi>=2017.4.17 in /system/conda/miniconda3/envs/cloudspace/lib/python3.10/site-packages (from requests>=2.19.0->datasets==2.14.5) (2024.8.30)\n",
      "Requirement already satisfied: python-dateutil>=2.8.2 in /system/conda/miniconda3/envs/cloudspace/lib/python3.10/site-packages (from pandas->datasets==2.14.5) (2.9.0.post0)\n",
      "Requirement already satisfied: pytz>=2020.1 in /system/conda/miniconda3/envs/cloudspace/lib/python3.10/site-packages (from pandas->datasets==2.14.5) (2024.1)\n",
      "Requirement already satisfied: tzdata>=2022.1 in /system/conda/miniconda3/envs/cloudspace/lib/python3.10/site-packages (from pandas->datasets==2.14.5) (2024.1)\n",
      "Requirement already satisfied: six>=1.5 in /system/conda/miniconda3/envs/cloudspace/lib/python3.10/site-packages (from python-dateutil>=2.8.2->pandas->datasets==2.14.5) (1.16.0)\n",
      "Requirement already satisfied: transformers==4.33.2 in /system/conda/miniconda3/envs/cloudspace/lib/python3.10/site-packages (4.33.2)\n",
      "Requirement already satisfied: filelock in /system/conda/miniconda3/envs/cloudspace/lib/python3.10/site-packages (from transformers==4.33.2) (3.15.4)\n",
      "Requirement already satisfied: huggingface-hub<1.0,>=0.15.1 in /system/conda/miniconda3/envs/cloudspace/lib/python3.10/site-packages (from transformers==4.33.2) (0.24.6)\n",
      "Requirement already satisfied: numpy>=1.17 in /system/conda/miniconda3/envs/cloudspace/lib/python3.10/site-packages (from transformers==4.33.2) (1.26.4)\n",
      "Requirement already satisfied: packaging>=20.0 in /system/conda/miniconda3/envs/cloudspace/lib/python3.10/site-packages (from transformers==4.33.2) (24.1)\n",
      "Requirement already satisfied: pyyaml>=5.1 in /system/conda/miniconda3/envs/cloudspace/lib/python3.10/site-packages (from transformers==4.33.2) (6.0.2)\n",
      "Requirement already satisfied: regex!=2019.12.17 in /system/conda/miniconda3/envs/cloudspace/lib/python3.10/site-packages (from transformers==4.33.2) (2024.7.24)\n",
      "Requirement already satisfied: requests in /system/conda/miniconda3/envs/cloudspace/lib/python3.10/site-packages (from transformers==4.33.2) (2.32.3)\n",
      "Requirement already satisfied: tokenizers!=0.11.3,<0.14,>=0.11.1 in /system/conda/miniconda3/envs/cloudspace/lib/python3.10/site-packages (from transformers==4.33.2) (0.13.3)\n",
      "Requirement already satisfied: safetensors>=0.3.1 in /system/conda/miniconda3/envs/cloudspace/lib/python3.10/site-packages (from transformers==4.33.2) (0.4.4)\n",
      "Requirement already satisfied: tqdm>=4.27 in /system/conda/miniconda3/envs/cloudspace/lib/python3.10/site-packages (from transformers==4.33.2) (4.66.5)\n",
      "Requirement already satisfied: fsspec>=2023.5.0 in /system/conda/miniconda3/envs/cloudspace/lib/python3.10/site-packages (from huggingface-hub<1.0,>=0.15.1->transformers==4.33.2) (2023.6.0)\n",
      "Requirement already satisfied: typing-extensions>=3.7.4.3 in /system/conda/miniconda3/envs/cloudspace/lib/python3.10/site-packages (from huggingface-hub<1.0,>=0.15.1->transformers==4.33.2) (4.12.2)\n",
      "Requirement already satisfied: charset-normalizer<4,>=2 in /system/conda/miniconda3/envs/cloudspace/lib/python3.10/site-packages (from requests->transformers==4.33.2) (3.3.2)\n",
      "Requirement already satisfied: idna<4,>=2.5 in /system/conda/miniconda3/envs/cloudspace/lib/python3.10/site-packages (from requests->transformers==4.33.2) (3.8)\n",
      "Requirement already satisfied: urllib3<3,>=1.21.1 in /system/conda/miniconda3/envs/cloudspace/lib/python3.10/site-packages (from requests->transformers==4.33.2) (2.2.2)\n",
      "Requirement already satisfied: certifi>=2017.4.17 in /system/conda/miniconda3/envs/cloudspace/lib/python3.10/site-packages (from requests->transformers==4.33.2) (2024.8.30)\n",
      "Requirement already satisfied: tensorboard==2.14.0 in /system/conda/miniconda3/envs/cloudspace/lib/python3.10/site-packages (2.14.0)\n",
      "Requirement already satisfied: absl-py>=0.4 in /system/conda/miniconda3/envs/cloudspace/lib/python3.10/site-packages (from tensorboard==2.14.0) (2.1.0)\n",
      "Requirement already satisfied: grpcio>=1.48.2 in /system/conda/miniconda3/envs/cloudspace/lib/python3.10/site-packages (from tensorboard==2.14.0) (1.66.1)\n",
      "Requirement already satisfied: google-auth<3,>=1.6.3 in /system/conda/miniconda3/envs/cloudspace/lib/python3.10/site-packages (from tensorboard==2.14.0) (2.34.0)\n",
      "Requirement already satisfied: google-auth-oauthlib<1.1,>=0.5 in /system/conda/miniconda3/envs/cloudspace/lib/python3.10/site-packages (from tensorboard==2.14.0) (1.0.0)\n",
      "Requirement already satisfied: markdown>=2.6.8 in /system/conda/miniconda3/envs/cloudspace/lib/python3.10/site-packages (from tensorboard==2.14.0) (3.7)\n",
      "Requirement already satisfied: numpy>=1.12.0 in /system/conda/miniconda3/envs/cloudspace/lib/python3.10/site-packages (from tensorboard==2.14.0) (1.26.4)\n",
      "Requirement already satisfied: protobuf>=3.19.6 in /system/conda/miniconda3/envs/cloudspace/lib/python3.10/site-packages (from tensorboard==2.14.0) (4.23.4)\n",
      "Requirement already satisfied: requests<3,>=2.21.0 in /system/conda/miniconda3/envs/cloudspace/lib/python3.10/site-packages (from tensorboard==2.14.0) (2.32.3)\n",
      "Requirement already satisfied: setuptools>=41.0.0 in /system/conda/miniconda3/envs/cloudspace/lib/python3.10/site-packages (from tensorboard==2.14.0) (72.1.0)\n",
      "Requirement already satisfied: tensorboard-data-server<0.8.0,>=0.7.0 in /system/conda/miniconda3/envs/cloudspace/lib/python3.10/site-packages (from tensorboard==2.14.0) (0.7.2)\n",
      "Requirement already satisfied: werkzeug>=1.0.1 in /system/conda/miniconda3/envs/cloudspace/lib/python3.10/site-packages (from tensorboard==2.14.0) (3.0.4)\n",
      "Requirement already satisfied: wheel>=0.26 in /system/conda/miniconda3/envs/cloudspace/lib/python3.10/site-packages (from tensorboard==2.14.0) (0.43.0)\n",
      "Requirement already satisfied: cachetools<6.0,>=2.0.0 in /system/conda/miniconda3/envs/cloudspace/lib/python3.10/site-packages (from google-auth<3,>=1.6.3->tensorboard==2.14.0) (5.5.0)\n",
      "Requirement already satisfied: pyasn1-modules>=0.2.1 in /system/conda/miniconda3/envs/cloudspace/lib/python3.10/site-packages (from google-auth<3,>=1.6.3->tensorboard==2.14.0) (0.4.0)\n",
      "Requirement already satisfied: rsa<5,>=3.1.4 in /system/conda/miniconda3/envs/cloudspace/lib/python3.10/site-packages (from google-auth<3,>=1.6.3->tensorboard==2.14.0) (4.9)\n",
      "Requirement already satisfied: requests-oauthlib>=0.7.0 in /system/conda/miniconda3/envs/cloudspace/lib/python3.10/site-packages (from google-auth-oauthlib<1.1,>=0.5->tensorboard==2.14.0) (2.0.0)\n",
      "Requirement already satisfied: charset-normalizer<4,>=2 in /system/conda/miniconda3/envs/cloudspace/lib/python3.10/site-packages (from requests<3,>=2.21.0->tensorboard==2.14.0) (3.3.2)\n",
      "Requirement already satisfied: idna<4,>=2.5 in /system/conda/miniconda3/envs/cloudspace/lib/python3.10/site-packages (from requests<3,>=2.21.0->tensorboard==2.14.0) (3.8)\n",
      "Requirement already satisfied: urllib3<3,>=1.21.1 in /system/conda/miniconda3/envs/cloudspace/lib/python3.10/site-packages (from requests<3,>=2.21.0->tensorboard==2.14.0) (2.2.2)\n",
      "Requirement already satisfied: certifi>=2017.4.17 in /system/conda/miniconda3/envs/cloudspace/lib/python3.10/site-packages (from requests<3,>=2.21.0->tensorboard==2.14.0) (2024.8.30)\n",
      "Requirement already satisfied: MarkupSafe>=2.1.1 in /system/conda/miniconda3/envs/cloudspace/lib/python3.10/site-packages (from werkzeug>=1.0.1->tensorboard==2.14.0) (2.1.5)\n",
      "Requirement already satisfied: pyasn1<0.7.0,>=0.4.6 in /system/conda/miniconda3/envs/cloudspace/lib/python3.10/site-packages (from pyasn1-modules>=0.2.1->google-auth<3,>=1.6.3->tensorboard==2.14.0) (0.6.0)\n",
      "Requirement already satisfied: oauthlib>=3.0.0 in /system/conda/miniconda3/envs/cloudspace/lib/python3.10/site-packages (from requests-oauthlib>=0.7.0->google-auth-oauthlib<1.1,>=0.5->tensorboard==2.14.0) (3.2.2)\n",
      "Requirement already satisfied: safetensors==0.4.4 in /system/conda/miniconda3/envs/cloudspace/lib/python3.10/site-packages (0.4.4)\n"
     ]
    }
   ],
   "source": [
    "# Remaining dependencies (for segmentation)\n",
    "!pip install opendatasets==0.1.22\n",
    "!pip install ever-beta==0.2.3\n",
    "!pip install git+https://github.com/qubvel/segmentation_models.pytorch\n",
    "!pip install pycocotools requests click\n",
    "\n",
    "# Remaining dependencies (for diffusion)\n",
    "!pip install diffusers==0.21.4\n",
    "!pip install datasets==2.14.5\n",
    "!pip install transformers==4.33.2\n",
    "!pip install tensorboard==2.14.0\n",
    "!pip install safetensors==0.4.4"
   ]
  },
  {
   "cell_type": "markdown",
   "id": "c235985f-f37a-4ef3-aefe-f00abc48cb87",
   "metadata": {},
   "source": [
    "## Step 2: Download and Setup the Dataset"
   ]
  },
  {
   "cell_type": "code",
   "execution_count": 3,
   "id": "28491c4d-630f-47b3-8c2c-1502af70ed05",
   "metadata": {
    "collapsed": true,
    "jupyter": {
     "outputs_hidden": true
    }
   },
   "outputs": [
    {
     "name": "stdout",
     "output_type": "stream",
     "text": [
      "/teamspace/studios/this_studio/RSGuidedDiffusion\n",
      "Please provide your Kaggle credentials to download this dataset. Learn more: http://bit.ly/kaggle-creds\n",
      "Your Kaggle username:"
     ]
    },
    {
     "name": "stderr",
     "output_type": "stream",
     "text": [
      "/home/zeus/miniconda3/envs/cloudspace/lib/python3.10/site-packages/IPython/core/magics/osm.py:417: UserWarning: using dhist requires you to install the `pickleshare` library.\n",
      "  self.shell.db['dhist'] = compress_dhist(dhist)[-100:]\n"
     ]
    },
    {
     "name": "stdin",
     "output_type": "stream",
     "text": [
      "  yjwong99\n"
     ]
    },
    {
     "name": "stdout",
     "output_type": "stream",
     "text": [
      "Your Kaggle Key:"
     ]
    },
    {
     "name": "stdin",
     "output_type": "stream",
     "text": [
      "  ········\n"
     ]
    },
    {
     "name": "stdout",
     "output_type": "stream",
     "text": [
      "Downloading building-extraction-generalization-2024.zip to ./building-extraction-generalization-2024\n"
     ]
    },
    {
     "name": "stderr",
     "output_type": "stream",
     "text": [
      "100%|██████████| 1.19G/1.19G [00:09<00:00, 135MB/s] \n"
     ]
    },
    {
     "name": "stdout",
     "output_type": "stream",
     "text": [
      "\n",
      "Extracting archive ./building-extraction-generalization-2024/building-extraction-generalization-2024.zip to ./building-extraction-generalization-2024\n",
      "/teamspace/studios/this_studio\n"
     ]
    },
    {
     "name": "stderr",
     "output_type": "stream",
     "text": [
      "/home/zeus/miniconda3/envs/cloudspace/lib/python3.10/site-packages/IPython/core/magics/osm.py:417: UserWarning: using dhist requires you to install the `pickleshare` library.\n",
      "  self.shell.db['dhist'] = compress_dhist(dhist)[-100:]\n"
     ]
    }
   ],
   "source": [
    "# Download the IEEE BEGC 2024 dataset\n",
    "\n",
    "%cd RSGuidedDiffusion\n",
    "\n",
    "import opendatasets as od\n",
    "\n",
    "od.download(\"https://www.kaggle.com/competitions/building-extraction-generalization-2024/data\")\n",
    "\n",
    "%cd ../"
   ]
  },
  {
   "cell_type": "code",
   "execution_count": 4,
   "id": "7aeb41da-b1af-4255-aa58-4ce02cdd088a",
   "metadata": {
    "collapsed": true,
    "jupyter": {
     "outputs_hidden": true
    }
   },
   "outputs": [
    {
     "name": "stdout",
     "output_type": "stream",
     "text": [
      "/teamspace/studios/this_studio/RSGuidedDiffusion\n",
      "\n",
      "\n",
      "#-----------------------------------------------------------------------------------\n",
      "Download the Building Extraction Generalization 2024 Dataset from kaggle\n",
      "#-----------------------------------------------------------------------------------\n",
      "\n",
      "Skipping, found downloaded files in \"./building-extraction-generalization-2024\" (use force=True to force download)\n",
      "\n",
      "\n",
      "#-----------------------------------------------------------------------------------\n",
      "Restructuring the dataset into directory \"detect\" for segmentation/diffusion\n",
      "#-----------------------------------------------------------------------------------\n",
      "\n",
      "loading annotations into memory...\n",
      "Done (t=0.95s)\n",
      "creating index...\n",
      "index created!\n",
      "\u001b[;36mCOCO categories\u001b[0m: \n",
      "['building']\n",
      "\n",
      "['building']\n",
      "The total number of the data: 3784\n",
      "\u001b[;36mIndex Correspond Table:\u001b[0m\n",
      "{'building': 0}\n",
      "\u001b[;32mCreating symbolic links...\u001b[0m\n",
      "\u001b[;32mSymbolic links for /teamspace/studios/this_studio/RSGuidedDiffusion/building-extraction-generalization-2024/train to /teamspace/studios/this_studio/RSGuidedDiffusion/detect/train complete!!\u001b[0m\n",
      "\u001b[;32mConverting COCO format to YOLO format by task...\u001b[0m\n",
      "\u001b[;32mCovert format from /teamspace/studios/this_studio/RSGuidedDiffusion/building-extraction-generalization-2024/train/train.json to /teamspace/studios/this_studio/RSGuidedDiffusion/detect/train/ complete!!\u001b[0m\n",
      "\u001b[1;32mDONE!!\u001b[0m\n",
      "loading annotations into memory...\n",
      "Done (t=0.21s)\n",
      "creating index...\n",
      "index created!\n",
      "\u001b[;36mCOCO categories\u001b[0m: \n",
      "['building']\n",
      "\n",
      "['building']\n",
      "The total number of the data: 933\n",
      "\u001b[;36mIndex Correspond Table:\u001b[0m\n",
      "{'building': 0}\n",
      "\u001b[;32mCreating symbolic links...\u001b[0m\n",
      "\u001b[;32mSymbolic links for /teamspace/studios/this_studio/RSGuidedDiffusion/building-extraction-generalization-2024/val to /teamspace/studios/this_studio/RSGuidedDiffusion/detect/val complete!!\u001b[0m\n",
      "\u001b[;32mConverting COCO format to YOLO format by task...\u001b[0m\n",
      "\u001b[;32mCovert format from /teamspace/studios/this_studio/RSGuidedDiffusion/building-extraction-generalization-2024/val/val.json to /teamspace/studios/this_studio/RSGuidedDiffusion/detect/val/ complete!!\u001b[0m\n",
      "\u001b[1;32mDONE!!\u001b[0m\n",
      "\n",
      "\n",
      "#-----------------------------------------------------------------------------------\n",
      "Restructuring the dataset into directory \"mydata\" for YOLOv8 training\n",
      "#-----------------------------------------------------------------------------------\n",
      "\n",
      "Creating the \"mydata\" directory ...\n",
      "\n",
      "Copying the contents from \"detect\" ...\n",
      "\n",
      "Creating the YOLOv8 yaml file for the dataset ...\n",
      "\n",
      "Done setting up the dataset!\n",
      "/teamspace/studios/this_studio\n"
     ]
    }
   ],
   "source": [
    "# Setup the IEEE BEGC2024 dataset into the necessary format\n",
    "\n",
    "%cd RSGuidedDiffusion\n",
    "\n",
    "# run the code\n",
    "!python setup_data.py\n",
    "\n",
    "%cd ../"
   ]
  },
  {
   "cell_type": "markdown",
   "id": "e7161d0f-c3ce-46b5-88e4-18060f971f38",
   "metadata": {},
   "source": [
    "## Step 3: Get the Segmentation Mask using Pretrained HRNet32 from LoveDA dataset"
   ]
  },
  {
   "cell_type": "code",
   "execution_count": 5,
   "id": "76f6e28a-46e5-4a8e-875b-103caea3fd08",
   "metadata": {
    "collapsed": true,
    "jupyter": {
     "outputs_hidden": true
    }
   },
   "outputs": [
    {
     "name": "stdout",
     "output_type": "stream",
     "text": [
      "/teamspace/studios/this_studio/RSGuidedDiffusion/segmentation\n",
      "  % Total    % Received % Xferd  Average Speed   Time    Time     Time  Current\n",
      "                                 Dload  Upload   Total   Spent    Left  Speed\n",
      "100    17  100    17    0     0     28      0 --:--:-- --:--:-- --:--:--    28\n",
      "100  113M  100  113M    0     0  61.3M      0  0:00:01  0:00:01 --:--:--  140M\n",
      "mkdir: created directory './log/'\n",
      "INFO:ever.core.logger:HRNetEncoder: pretrained = True\n",
      "INFO:data.loveda:./LoveDA/train/image -- Dataset images: 3784\n",
      "100%|███████████████████████████████████████| 3784/3784 [04:51<00:00, 12.98it/s]\n",
      "INFO:data.loveda:./LoveDA/val/image -- Dataset images: 933\n",
      "100%|█████████████████████████████████████████| 933/933 [01:09<00:00, 13.41it/s]\n",
      "/teamspace/studios/this_studio\n"
     ]
    }
   ],
   "source": [
    "# Get Pretrained HRNet weights\n",
    "%cd RSGuidedDiffusion/segmentation\n",
    "!curl -L -o \"hrnetw32.pth\" \"https://www.dropbox.com/scl/fi/5au20lvw3yb5y3btnlamg/hrnetw32.pth?rlkey=eoqio6mlxtq4ykdnaa8n4dp4l&st=d4tg641s&dl=0\"\n",
    "\n",
    "# move the pretrained weights to the designated directory\n",
    "!mkdir -vp ./log/\n",
    "!mv \"hrnetw32.pth\" \"./log/hrnetw32.pth\"\n",
    "\n",
    "# make a soft link from \"building-extraction-generalization-2024\" to get the image data into LoveDA\n",
    "!ln -s \"../building-extraction-generalization-2024\" ./LoveDA\n",
    "\n",
    "# copy the label data into LoveDA\n",
    "!cp -r \"../detect/train/label\" ./LoveDA/train\n",
    "!cp -r \"../detect/val/label\" ./LoveDA/val\n",
    "\n",
    "# run the segmentation code\n",
    "!python3 run.py\n",
    "%cd ../../"
   ]
  },
  {
   "cell_type": "markdown",
   "id": "f895bac2-d47e-4d51-9615-2bff14fe82c5",
   "metadata": {},
   "source": [
    "## Step 4: Train the Segmentation Guided Diffusion Model"
   ]
  },
  {
   "cell_type": "code",
   "execution_count": 1,
   "id": "69bc9451-0fea-46e0-8b4c-ed1cab9b4894",
   "metadata": {
    "collapsed": true,
    "jupyter": {
     "outputs_hidden": true
    }
   },
   "outputs": [],
   "source": [
    "# # Train the Guided Diffusion Model using BEGC2024 Training Images + Segmentation Masks (from HRNet32, fixed with BEGC building labels)\n",
    "# # Uncomment to train from scratch\n",
    "\n",
    "# %cd RSGuidedDiffusion\n",
    "\n",
    "# import os\n",
    "# pwd = os.getcwd()\n",
    "\n",
    "# !CUDA_VISIBLE_DEVICES=0 python3 main.py --mode train --model_type DDIM --img_size 256 --num_img_channels 3 --dataset BEGC --img_dir {pwd}/segmentation/diffusion_data/data --seg_dir {pwd}/segmentation/diffusion_data/mask --segmentation_guided --segmentation_channel_mode single --num_segmentation_classes 7 --train_batch_size 2 --eval_batch_size 2 --num_epochs 200\n",
    "\n",
    "# %cd ../"
   ]
  },
  {
   "cell_type": "code",
   "execution_count": 14,
   "id": "c73ceefb-746a-4ebf-b47b-662c6878c7f2",
   "metadata": {
    "collapsed": true,
    "jupyter": {
     "outputs_hidden": true
    }
   },
   "outputs": [
    {
     "name": "stdout",
     "output_type": "stream",
     "text": [
      "/teamspace/studios/this_studio/RSGuidedDiffusion\n",
      "  % Total    % Received % Xferd  Average Speed   Time    Time     Time  Current\n",
      "                                 Dload  Upload   Total   Spent    Left  Speed\n",
      "100    17  100    17    0     0     31      0 --:--:-- --:--:-- --:--:--    30\n",
      "100   491    0   491    0     0    642      0 --:--:-- --:--:-- --:--:--   642\n",
      "100  401M  100  401M    0     0  97.5M      0  0:00:04  0:00:04 --:--:--  132M\n",
      "Archive:  ddim-BEGC-256-segguided.zip\n",
      "   creating: ddim-BEGC-256-segguided/\n",
      "  inflating: ddim-BEGC-256-segguided/model_index.json  \n",
      "   creating: ddim-BEGC-256-segguided/unet/\n",
      "  inflating: ddim-BEGC-256-segguided/unet/config.json  \n",
      "  inflating: ddim-BEGC-256-segguided/unet/diffusion_pytorch_model.safetensors  \n",
      "   creating: ddim-BEGC-256-segguided/scheduler/\n",
      "  inflating: ddim-BEGC-256-segguided/scheduler/scheduler_config.json  \n",
      "/teamspace/studios/this_studio\n"
     ]
    }
   ],
   "source": [
    "# Download the Pretrained Segmentation Guided Diffusion Model\n",
    "\n",
    "%cd RSGuidedDiffusion\n",
    "\n",
    "# download pretrained model\n",
    "!curl -L -o \"ddim-BEGC-256-segguided.zip\" \"https://www.dropbox.com/scl/fi/86i7mvr3fe1rkgejdewcj/ddim-BEGC-256-segguided.zip?rlkey=eugkdfero832mecdu9mdk0fio&st=k245vc5h&dl=0\"\n",
    "!unzip \"ddim-BEGC-256-segguided.zip\"\n",
    "    \n",
    "%cd ../"
   ]
  },
  {
   "cell_type": "markdown",
   "id": "3e24d524-8fc1-4c8d-bc9b-b8319dfbc02e",
   "metadata": {},
   "source": [
    "## Step 5: Generate the Synthetic Dataset using our Segmentation Guided Diffusion Model"
   ]
  },
  {
   "cell_type": "code",
   "execution_count": 4,
   "id": "e1fad9aa-2cf4-4dc6-8b99-fe68451c0d2f",
   "metadata": {
    "collapsed": true,
    "jupyter": {
     "outputs_hidden": true
    }
   },
   "outputs": [
    {
     "name": "stdout",
     "output_type": "stream",
     "text": [
      "Directory copied successfully!\n"
     ]
    }
   ],
   "source": [
    "import shutil\n",
    "\n",
    "# By default, the code will use test dataset to generate synthetic images\n",
    "# But we do not want to use BEGC2024 test dataset for this, to prevent data leakage\n",
    "# Instead, we make a copy of train dataset as \"test\" dataset, which will be used to generate the synthetic dataset\n",
    "src_path = \"RSGuidedDiffusion/segmentation/diffusion_data/mask/all/train\"\n",
    "dst_path = \"RSGuidedDiffusion/segmentation/diffusion_data/mask/all/test\"\n",
    "\n",
    "# Recursively copy the entire directory tree\n",
    "shutil.copytree(src_path, dst_path)\n",
    "\n",
    "print(\"Directory copied successfully!\")\n"
   ]
  },
  {
   "cell_type": "code",
   "execution_count": 5,
   "id": "b011e41c-6298-47e9-88d8-3d2176a770d5",
   "metadata": {
    "collapsed": true,
    "jupyter": {
     "outputs_hidden": true
    }
   },
   "outputs": [],
   "source": [
    "# # Run inference to generate synthetic data\n",
    "# # Uncomment to run the code\n",
    "# # We set --eval_sample_size to 1584, because there is only 1584 data points in our test (train) folder\n",
    "# # You can set it higher to generate more images\n",
    "\n",
    "# %cd RSGuidedDiffusion\n",
    "\n",
    "# import os\n",
    "# pwd = os.getcwd()\n",
    "\n",
    "# !CUDA_VISIBLE_DEVICES=0 python3 main.py --mode eval_many --model_type DDIM --img_size 256 --num_img_channels 3 --dataset BEGC --eval_batch_size 1 --eval_sample_size 1584 --seg_dir {pwd}/segmentation/diffusion_data/mask --segmentation_guided --segmentation_channel_mode single --num_segmentation_classes 7 \n",
    "\n",
    "# %cd ../"
   ]
  },
  {
   "cell_type": "code",
   "execution_count": 18,
   "id": "b8440f8c-f21c-4975-a630-40ce1f6eea48",
   "metadata": {
    "collapsed": true,
    "jupyter": {
     "outputs_hidden": true
    }
   },
   "outputs": [],
   "source": [
    "# Instead, you can download the synthetic data which we have generated for you\n",
    "\n",
    "%cd RSGuidedDiffusion/ddim-BEGC-256-segguided\n",
    "\n",
    "# download the synthetic images generated by our model\n",
    "!curl -L -o \"generated_images.zip\" \"https://www.dropbox.com/scl/fi/slq3qcg0qhzpj9cc22ws4/generated_images.zip?rlkey=npgj3v4ki6o7sogrca742ubt3&st=fjuxt1vn&dl=0\"\n",
    "!unzip \"generated_images.zip\"\n",
    "\n",
    "import os\n",
    "os.rename('RSGuidedDiffusion/ddim-BEGC-256-segguided/generated_images', 'RSGuidedDiffusion/ddim-BEGC-256-segguided/samples_many_1584')\n",
    "    \n",
    "%cd ../../"
   ]
  },
  {
   "cell_type": "markdown",
   "id": "d0239a0b-c069-4481-a79e-4881194b5d07",
   "metadata": {},
   "source": [
    "## Step 6: Train a YOLOv8 Segmentation Model using IEEE BEGC2024 + Synthetic Data generated by our Diffusion Model"
   ]
  },
  {
   "cell_type": "code",
   "execution_count": 19,
   "id": "3d8c2da0-37e0-4cf4-bcc7-1a6c56f4f9ca",
   "metadata": {
    "collapsed": true,
    "jupyter": {
     "outputs_hidden": true
    }
   },
   "outputs": [],
   "source": [
    "import os, shutil\n",
    "\n",
    "# to copy the synthetic images and labels to \"mydata\" directory, which is used to train our YOLO model\n",
    "train_img_dir = 'RSGuidedDiffusion/mydata/images/train'\n",
    "train_label_dir = 'RSGuidedDiffusion/mydata/labels/train'\n",
    "diffused_img_dir = 'RSGuidedDiffusion/ddim-BEGC-256-segguided/samples_many_1584'\n",
    "\n",
    "diffused_imgs = sorted(os.listdir(diffused_img_dir))\n",
    "for img in diffused_imgs:\n",
    "    ori_img = img.replace('condon_', '')\n",
    "    ori_label = ori_img.replace('.jpg', '.txt')\n",
    "    label = 'condon_' + ori_label\n",
    "\n",
    "    # full diffused image path\n",
    "    ori_img = os.path.join(train_img_dir, ori_img)\n",
    "    img = os.path.join(diffused_img_dir, img)\n",
    "    \n",
    "    # full label path\n",
    "    ori_label = os.path.join(train_label_dir, ori_label)\n",
    "    label = os.path.join(train_label_dir, label)\n",
    "\n",
    "    # check if ori_label exits\n",
    "    if os.path.isfile(ori_label):\n",
    "        # copy img and into train_img_dir\n",
    "        shutil.copy(img, train_img_dir)\n",
    "        \n",
    "        # copy ori_label and name it as label\n",
    "        shutil.copyfile(ori_label, label)\n",
    "    else:\n",
    "        print(f'Skip {img} because label not exists')"
   ]
  },
  {
   "cell_type": "code",
   "execution_count": 22,
   "id": "b800f130-72a9-4902-8a6f-407d10be3123",
   "metadata": {
    "collapsed": true,
    "jupyter": {
     "outputs_hidden": true
    }
   },
   "outputs": [
    {
     "name": "stdout",
     "output_type": "stream",
     "text": [
      "Collecting ultralytics==8.1\n",
      "  Downloading ultralytics-8.1.0-py3-none-any.whl.metadata (39 kB)\n",
      "Requirement already satisfied: matplotlib>=3.3.0 in /system/conda/miniconda3/envs/cloudspace/lib/python3.10/site-packages (from ultralytics==8.1) (3.8.2)\n",
      "Requirement already satisfied: numpy>=1.22.2 in /system/conda/miniconda3/envs/cloudspace/lib/python3.10/site-packages (from ultralytics==8.1) (1.26.4)\n",
      "Collecting opencv-python>=4.6.0 (from ultralytics==8.1)\n",
      "  Downloading opencv_python-4.10.0.84-cp37-abi3-manylinux_2_17_x86_64.manylinux2014_x86_64.whl.metadata (20 kB)\n",
      "Requirement already satisfied: pillow>=7.1.2 in /system/conda/miniconda3/envs/cloudspace/lib/python3.10/site-packages (from ultralytics==8.1) (10.4.0)\n",
      "Requirement already satisfied: pyyaml>=5.3.1 in /system/conda/miniconda3/envs/cloudspace/lib/python3.10/site-packages (from ultralytics==8.1) (6.0.2)\n",
      "Requirement already satisfied: requests>=2.23.0 in /system/conda/miniconda3/envs/cloudspace/lib/python3.10/site-packages (from ultralytics==8.1) (2.32.3)\n",
      "Requirement already satisfied: scipy>=1.4.1 in /system/conda/miniconda3/envs/cloudspace/lib/python3.10/site-packages (from ultralytics==8.1) (1.11.4)\n",
      "Requirement already satisfied: torch>=1.8.0 in /system/conda/miniconda3/envs/cloudspace/lib/python3.10/site-packages (from ultralytics==8.1) (2.2.1+cu121)\n",
      "Requirement already satisfied: torchvision>=0.9.0 in /system/conda/miniconda3/envs/cloudspace/lib/python3.10/site-packages (from ultralytics==8.1) (0.17.1+cu121)\n",
      "Requirement already satisfied: tqdm>=4.64.0 in /system/conda/miniconda3/envs/cloudspace/lib/python3.10/site-packages (from ultralytics==8.1) (4.66.5)\n",
      "Requirement already satisfied: psutil in /system/conda/miniconda3/envs/cloudspace/lib/python3.10/site-packages (from ultralytics==8.1) (6.0.0)\n",
      "Collecting py-cpuinfo (from ultralytics==8.1)\n",
      "  Downloading py_cpuinfo-9.0.0-py3-none-any.whl.metadata (794 bytes)\n",
      "Collecting thop>=0.1.1 (from ultralytics==8.1)\n",
      "  Downloading thop-0.1.1.post2209072238-py3-none-any.whl.metadata (2.7 kB)\n",
      "Requirement already satisfied: pandas>=1.1.4 in /system/conda/miniconda3/envs/cloudspace/lib/python3.10/site-packages (from ultralytics==8.1) (2.1.4)\n",
      "Collecting seaborn>=0.11.0 (from ultralytics==8.1)\n",
      "  Downloading seaborn-0.13.2-py3-none-any.whl.metadata (5.4 kB)\n",
      "Collecting hub-sdk>=0.0.2 (from ultralytics==8.1)\n",
      "  Downloading hub_sdk-0.0.10-py3-none-any.whl.metadata (10 kB)\n",
      "Requirement already satisfied: contourpy>=1.0.1 in /system/conda/miniconda3/envs/cloudspace/lib/python3.10/site-packages (from matplotlib>=3.3.0->ultralytics==8.1) (1.3.0)\n",
      "Requirement already satisfied: cycler>=0.10 in /system/conda/miniconda3/envs/cloudspace/lib/python3.10/site-packages (from matplotlib>=3.3.0->ultralytics==8.1) (0.12.1)\n",
      "Requirement already satisfied: fonttools>=4.22.0 in /system/conda/miniconda3/envs/cloudspace/lib/python3.10/site-packages (from matplotlib>=3.3.0->ultralytics==8.1) (4.53.1)\n",
      "Requirement already satisfied: kiwisolver>=1.3.1 in /system/conda/miniconda3/envs/cloudspace/lib/python3.10/site-packages (from matplotlib>=3.3.0->ultralytics==8.1) (1.4.7)\n",
      "Requirement already satisfied: packaging>=20.0 in /system/conda/miniconda3/envs/cloudspace/lib/python3.10/site-packages (from matplotlib>=3.3.0->ultralytics==8.1) (24.1)\n",
      "Requirement already satisfied: pyparsing>=2.3.1 in /system/conda/miniconda3/envs/cloudspace/lib/python3.10/site-packages (from matplotlib>=3.3.0->ultralytics==8.1) (3.1.4)\n",
      "Requirement already satisfied: python-dateutil>=2.7 in /system/conda/miniconda3/envs/cloudspace/lib/python3.10/site-packages (from matplotlib>=3.3.0->ultralytics==8.1) (2.9.0.post0)\n",
      "Requirement already satisfied: pytz>=2020.1 in /system/conda/miniconda3/envs/cloudspace/lib/python3.10/site-packages (from pandas>=1.1.4->ultralytics==8.1) (2024.1)\n",
      "Requirement already satisfied: tzdata>=2022.1 in /system/conda/miniconda3/envs/cloudspace/lib/python3.10/site-packages (from pandas>=1.1.4->ultralytics==8.1) (2024.1)\n",
      "Requirement already satisfied: charset-normalizer<4,>=2 in /system/conda/miniconda3/envs/cloudspace/lib/python3.10/site-packages (from requests>=2.23.0->ultralytics==8.1) (3.3.2)\n",
      "Requirement already satisfied: idna<4,>=2.5 in /system/conda/miniconda3/envs/cloudspace/lib/python3.10/site-packages (from requests>=2.23.0->ultralytics==8.1) (3.8)\n",
      "Requirement already satisfied: urllib3<3,>=1.21.1 in /system/conda/miniconda3/envs/cloudspace/lib/python3.10/site-packages (from requests>=2.23.0->ultralytics==8.1) (2.2.2)\n",
      "Requirement already satisfied: certifi>=2017.4.17 in /system/conda/miniconda3/envs/cloudspace/lib/python3.10/site-packages (from requests>=2.23.0->ultralytics==8.1) (2024.8.30)\n",
      "Requirement already satisfied: filelock in /system/conda/miniconda3/envs/cloudspace/lib/python3.10/site-packages (from torch>=1.8.0->ultralytics==8.1) (3.15.4)\n",
      "Requirement already satisfied: typing-extensions>=4.8.0 in /system/conda/miniconda3/envs/cloudspace/lib/python3.10/site-packages (from torch>=1.8.0->ultralytics==8.1) (4.12.2)\n",
      "Requirement already satisfied: sympy in /system/conda/miniconda3/envs/cloudspace/lib/python3.10/site-packages (from torch>=1.8.0->ultralytics==8.1) (1.13.2)\n",
      "Requirement already satisfied: networkx in /system/conda/miniconda3/envs/cloudspace/lib/python3.10/site-packages (from torch>=1.8.0->ultralytics==8.1) (3.3)\n",
      "Requirement already satisfied: jinja2 in /system/conda/miniconda3/envs/cloudspace/lib/python3.10/site-packages (from torch>=1.8.0->ultralytics==8.1) (3.1.4)\n",
      "Requirement already satisfied: fsspec in /system/conda/miniconda3/envs/cloudspace/lib/python3.10/site-packages (from torch>=1.8.0->ultralytics==8.1) (2023.6.0)\n",
      "Requirement already satisfied: nvidia-cuda-nvrtc-cu12==12.1.105 in /system/conda/miniconda3/envs/cloudspace/lib/python3.10/site-packages (from torch>=1.8.0->ultralytics==8.1) (12.1.105)\n",
      "Requirement already satisfied: nvidia-cuda-runtime-cu12==12.1.105 in /system/conda/miniconda3/envs/cloudspace/lib/python3.10/site-packages (from torch>=1.8.0->ultralytics==8.1) (12.1.105)\n",
      "Requirement already satisfied: nvidia-cuda-cupti-cu12==12.1.105 in /system/conda/miniconda3/envs/cloudspace/lib/python3.10/site-packages (from torch>=1.8.0->ultralytics==8.1) (12.1.105)\n",
      "Requirement already satisfied: nvidia-cudnn-cu12==8.9.2.26 in /system/conda/miniconda3/envs/cloudspace/lib/python3.10/site-packages (from torch>=1.8.0->ultralytics==8.1) (8.9.2.26)\n",
      "Requirement already satisfied: nvidia-cublas-cu12==12.1.3.1 in /system/conda/miniconda3/envs/cloudspace/lib/python3.10/site-packages (from torch>=1.8.0->ultralytics==8.1) (12.1.3.1)\n",
      "Requirement already satisfied: nvidia-cufft-cu12==11.0.2.54 in /system/conda/miniconda3/envs/cloudspace/lib/python3.10/site-packages (from torch>=1.8.0->ultralytics==8.1) (11.0.2.54)\n",
      "Requirement already satisfied: nvidia-curand-cu12==10.3.2.106 in /system/conda/miniconda3/envs/cloudspace/lib/python3.10/site-packages (from torch>=1.8.0->ultralytics==8.1) (10.3.2.106)\n",
      "Requirement already satisfied: nvidia-cusolver-cu12==11.4.5.107 in /system/conda/miniconda3/envs/cloudspace/lib/python3.10/site-packages (from torch>=1.8.0->ultralytics==8.1) (11.4.5.107)\n",
      "Requirement already satisfied: nvidia-cusparse-cu12==12.1.0.106 in /system/conda/miniconda3/envs/cloudspace/lib/python3.10/site-packages (from torch>=1.8.0->ultralytics==8.1) (12.1.0.106)\n",
      "Requirement already satisfied: nvidia-nccl-cu12==2.19.3 in /system/conda/miniconda3/envs/cloudspace/lib/python3.10/site-packages (from torch>=1.8.0->ultralytics==8.1) (2.19.3)\n",
      "Requirement already satisfied: nvidia-nvtx-cu12==12.1.105 in /system/conda/miniconda3/envs/cloudspace/lib/python3.10/site-packages (from torch>=1.8.0->ultralytics==8.1) (12.1.105)\n",
      "Requirement already satisfied: triton==2.2.0 in /system/conda/miniconda3/envs/cloudspace/lib/python3.10/site-packages (from torch>=1.8.0->ultralytics==8.1) (2.2.0)\n",
      "Requirement already satisfied: nvidia-nvjitlink-cu12 in /system/conda/miniconda3/envs/cloudspace/lib/python3.10/site-packages (from nvidia-cusolver-cu12==11.4.5.107->torch>=1.8.0->ultralytics==8.1) (12.6.68)\n",
      "Requirement already satisfied: six>=1.5 in /system/conda/miniconda3/envs/cloudspace/lib/python3.10/site-packages (from python-dateutil>=2.7->matplotlib>=3.3.0->ultralytics==8.1) (1.16.0)\n",
      "Requirement already satisfied: MarkupSafe>=2.0 in /system/conda/miniconda3/envs/cloudspace/lib/python3.10/site-packages (from jinja2->torch>=1.8.0->ultralytics==8.1) (2.1.5)\n",
      "Requirement already satisfied: mpmath<1.4,>=1.1.0 in /system/conda/miniconda3/envs/cloudspace/lib/python3.10/site-packages (from sympy->torch>=1.8.0->ultralytics==8.1) (1.3.0)\n",
      "Downloading ultralytics-8.1.0-py3-none-any.whl (699 kB)\n",
      "\u001b[2K   \u001b[90m━━━━━━━━━━━━━━━━━━━━━━━━━━━━━━━━━━━━━━━━\u001b[0m \u001b[32m699.2/699.2 kB\u001b[0m \u001b[31m37.8 MB/s\u001b[0m eta \u001b[36m0:00:00\u001b[0m\n",
      "\u001b[?25hDownloading hub_sdk-0.0.10-py3-none-any.whl (42 kB)\n",
      "Downloading opencv_python-4.10.0.84-cp37-abi3-manylinux_2_17_x86_64.manylinux2014_x86_64.whl (62.5 MB)\n",
      "\u001b[2K   \u001b[90m━━━━━━━━━━━━━━━━━━━━━━━━━━━━━━━━━━━━━━━━\u001b[0m \u001b[32m62.5/62.5 MB\u001b[0m \u001b[31m177.5 MB/s\u001b[0m eta \u001b[36m0:00:00\u001b[0ma \u001b[36m0:00:01\u001b[0m\n",
      "\u001b[?25hDownloading seaborn-0.13.2-py3-none-any.whl (294 kB)\n",
      "Downloading thop-0.1.1.post2209072238-py3-none-any.whl (15 kB)\n",
      "Downloading py_cpuinfo-9.0.0-py3-none-any.whl (22 kB)\n",
      "Installing collected packages: py-cpuinfo, opencv-python, hub-sdk, seaborn, thop, ultralytics\n",
      "Successfully installed hub-sdk-0.0.10 opencv-python-4.10.0.84 py-cpuinfo-9.0.0 seaborn-0.13.2 thop-0.1.1.post2209072238 ultralytics-8.1.0\n"
     ]
    }
   ],
   "source": [
    "!pip install ultralytics==8.1"
   ]
  },
  {
   "cell_type": "code",
   "execution_count": null,
   "id": "b04a6ff4-0464-4903-8550-6fa1f8b2d2c2",
   "metadata": {
    "collapsed": true,
    "jupyter": {
     "outputs_hidden": true
    }
   },
   "outputs": [],
   "source": [
    "# Train the YOLOv8 segmentation model\n",
    "\n",
    "from ultralytics import YOLO\n",
    "import os, shutil\n",
    "\n",
    "# yaml file of the Puerto Rico dataset\n",
    "yaml_file = \"RSGuidedDiffusion/mydata/data.yaml\"\n",
    "\n",
    "# use OBB pretrained YOLOv8 models for transfer learning\n",
    "model = YOLO(\"yolov8m-seg.pt\").load(\"yolov8m-obb.pt\")\n",
    "\n",
    "# Train the model (mainly shutdown mosaic + add flipud + add rotation)\n",
    "results = model.train(data=yaml_file, epochs=50, imgsz=640, plots=True, mixup=0.2)"
   ]
  },
  {
   "cell_type": "code",
   "execution_count": null,
   "id": "982dc61b-6d9d-4c72-b213-e48702ef4344",
   "metadata": {
    "collapsed": true,
    "jupyter": {
     "outputs_hidden": true
    }
   },
   "outputs": [],
   "source": [
    "# Run inference using the trained YOLO model\n",
    "\n",
    "import os\n",
    "from ultralytics import YOLO\n",
    "\n",
    "# Load the trained YOLOv8 model\n",
    "model = YOLO('runs/segment/train/weights/last.pt')\n",
    "\n",
    "# Directory containing test images\n",
    "test_image_dir = 'RSGuidedDiffusion/building-extraction-generalization-2024/test/image'\n",
    "\n",
    "# Decoding according to the .yaml file class names order\n",
    "decoding_of_predictions ={0: 'building'}\n",
    "\n",
    "# Iterate through images in the test directory\n",
    "IDs = []\n",
    "entries = []\n",
    "for image_filename in sorted(os.listdir(test_image_dir)):\n",
    "    # remove extension from image_filename\n",
    "    ID = int(os.path.splitext(image_filename)[0])\n",
    "    print(ID)\n",
    "\n",
    "    image_path = os.path.join(test_image_dir, image_filename)\n",
    "\n",
    "    # Perform prediction on the image\n",
    "    results = model.predict(source=image_path, save=True, conf=0.2, imgsz=640, iou=0.95)\n",
    "\n",
    "    # Print results for each image (optional)\n",
    "    for r in results:\n",
    "        conf_list = r.boxes.conf.cpu().numpy().tolist()\n",
    "        clss_list = r.boxes.cls.cpu().numpy().tolist()\n",
    "        original_list = clss_list\n",
    "        updated_list = []\n",
    "        for element in original_list:\n",
    "                updated_list.append(decoding_of_predictions[int(element)])\n",
    "\n",
    "    # bounding_boxes = r.boxes.xyxy.cpu().numpy()\n",
    "\n",
    "    confidences = conf_list\n",
    "    class_names = updated_list\n",
    "    try:\n",
    "        masks = r.masks.xy\n",
    "    except:\n",
    "        masks = []\n",
    "\n",
    "    # Check if bounding boxes, confidences and class names match\n",
    "    if len(masks) != len(confidences) or len(masks) != len(class_names):\n",
    "        print(\"Error: Number of bounding boxes, confidences, and class names should be the same.\")\n",
    "        continue\n",
    "\n",
    "    entry = []\n",
    "    for m in masks:\n",
    "        temp = []\n",
    "        if len(m) <4:\n",
    "            continue\n",
    "        for xy in m:\n",
    "            x, y = xy[0], xy[1]\n",
    "            temp.append((int(x), int(y)))\n",
    "        entry.append(temp)\n",
    "\n",
    "    IDs.append(ID)\n",
    "    entries.append(entry)"
   ]
  },
  {
   "cell_type": "code",
   "execution_count": null,
   "id": "9c10f0e8-3d10-4669-a6ea-b504bc741860",
   "metadata": {
    "collapsed": true,
    "jupyter": {
     "outputs_hidden": true
    }
   },
   "outputs": [],
   "source": [
    "# Generate the output csv file\n",
    "\n",
    "import csv\n",
    "\n",
    "# Assuming you have the 'IDs' and 'entries' lists as defined in the previous code\n",
    "\n",
    "# Create a list of dictionaries to store the data\n",
    "data = []\n",
    "for i in range(len(IDs)):\n",
    "  data.append({'ImageID': IDs[i], 'Coordinates': entries[i]})\n",
    "\n",
    "# Write the data to a CSV file\n",
    "with open('output.csv', 'w', newline='') as csvfile:\n",
    "  fieldnames = ['ImageID', 'Coordinates']\n",
    "  writer = csv.DictWriter(csvfile, fieldnames=fieldnames)\n",
    "\n",
    "  writer.writeheader()\n",
    "  writer.writerows(data)\n"
   ]
  },
  {
   "cell_type": "code",
   "execution_count": null,
   "id": "49023358-faf1-4fe9-8274-46b5a7ad15b4",
   "metadata": {
    "collapsed": true,
    "jupyter": {
     "outputs_hidden": true
    }
   },
   "outputs": [],
   "source": [
    "# just in case\n",
    "import locale\n",
    "locale.getpreferredencoding = lambda: \"UTF-8\"\n",
    "\n",
    "# zip into the output file\n",
    "!zip output.zip /content/output.csv"
   ]
  }
 ],
 "metadata": {
  "kernelspec": {
   "display_name": "Python 3",
   "language": "python",
   "name": "python3"
  },
  "language_info": {
   "codemirror_mode": {
    "name": "ipython",
    "version": 3
   },
   "file_extension": ".py",
   "mimetype": "text/x-python",
   "name": "python",
   "nbconvert_exporter": "python",
   "pygments_lexer": "ipython3",
   "version": "3.10.10"
  }
 },
 "nbformat": 4,
 "nbformat_minor": 5
}
